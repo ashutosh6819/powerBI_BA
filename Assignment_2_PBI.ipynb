{
 "cells": [
  {
   "cell_type": "markdown",
   "id": "9b19f34e",
   "metadata": {},
   "source": [
    "Q1. List and explain different PowerBi products?\n",
    "\n",
    "    Answer - \n",
    "    - Creating and editing customized reports for every level of expertise.\n",
    "    - Data ingestion from hundreds of supported data sources.\n",
    "    - Data transformation, cleaning, data model creation with built-in Power Query Editor.\n",
    "    - AI-driven analytics.\n",
    "    - Interactive reporting with pre-built or custom visuals.\n",
    "\n",
    "\n",
    "Q2. What limitations of Excel, Microsoft solved by PowerBi?\n",
    "\n",
    "    Answer - \n",
    "    - We all know it can be stressful receiving reports from different Managers, Analysts or even departments that don’t work together often. By building a Workspace in Power BI, you can give your company the advantage of structuring and associating data schema into one place.\n",
    "    \n",
    "    - By implementing Row-Level Security you can specify each set of data for a user or group. This means less analysis time needed, as just one view would be built for Power BI to deliver based on the predefined rules.\n",
    "    \n",
    "    -  Power BI users can create rules on specific reports and subscribe to those rules to receive an alert once they are met.\n",
    "\n",
    "Q3. Explain PowerQuery?\n",
    "\n",
    "    Answer - Power query is a function that filters transforms, and combines the data extracted from various sources. It helps to import data from databases, files, etc and append data\n",
    "\n",
    "Q4. Explain PowerMap?\n",
    "\n",
    "    Answer -  The power map tool helps to visualize whom you need to influence, who can influence your target and what can be done to influence the identified person with power.\n",
    "\n",
    "Q5. How powerBi eliminated the need to host SharePoint Server on premises?\n",
    "\n",
    "    Answer - As a business, where your corporate information is stored means a lot. Some companies are unwilling or unable to store their information in the cloud for reasons of legality or compliance—so SharePoint on-prem is the more obvious option.\n",
    "\n",
    "Q6. Explain the updates done in Power Bi Service(power BI 2.0) as compared to older version ?\n",
    "\n",
    "Answer - \n"
   ]
  },
  {
   "cell_type": "code",
   "execution_count": null,
   "id": "1dca4de5",
   "metadata": {},
   "outputs": [],
   "source": []
  }
 ],
 "metadata": {
  "kernelspec": {
   "display_name": "Python 3",
   "language": "python",
   "name": "python3"
  },
  "language_info": {
   "codemirror_mode": {
    "name": "ipython",
    "version": 3
   },
   "file_extension": ".py",
   "mimetype": "text/x-python",
   "name": "python",
   "nbconvert_exporter": "python",
   "pygments_lexer": "ipython3",
   "version": "3.8.8"
  }
 },
 "nbformat": 4,
 "nbformat_minor": 5
}
