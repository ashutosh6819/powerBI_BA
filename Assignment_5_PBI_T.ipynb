{
 "cells": [
  {
   "cell_type": "markdown",
   "id": "dfa8ead5",
   "metadata": {},
   "source": [
    "Q1. Explain DAX.\n",
    "\n",
    "    Answer - Data Analysis Expressions (DAX) is a formula expression language used in Analysis Services, Power BI, and Power Pivot in Excel. DAX formulas include functions, operators, and values to perform advanced calculations and queries on data in related tables and columns in tabular data models.\n",
    "\n",
    "Q2. Explain datasets, reports, and dashboards and how they relate to each other?\n",
    "\n",
    "    Answer - A dataset is a collection of data that you import or connect to. Power BI lets you connect to and import all sorts of datasets and bring all of it together in one place. Datasets can also source data from dataflows.\n",
    "    A Power BI report is one or more pages of visualizations such as line charts, maps, and treemaps. Visualizations are also called visuals. All of the visualizations in a report come from a single dataset.\n",
    "    A dashboard is something you create in the Power BI service or something a colleague creates in the Power BI service and shares with you. It is a single canvas that contains zero or more tiles and widgets.\n",
    "    \n",
    "    so , they relate in such a way as we get the data from a database by the use of datasets and then we use the data to make the report by using suitable visuals and then dashboard , it helps to share the whole thing with the team.\n",
    "\n",
    "Q3. How reports can be created in power BI, explain two ways with Navigation of each.\n",
    "\n",
    "    Answer - \n",
    "\n",
    "Q4. How to connect to data in Power BI? How to use the content pack to connect to google analytics? Mention the steps.\n",
    "\n",
    "    Answer -  \n",
    "    \n",
    "Q5. How to import Local files in Power BI? Mention the Steps.\n",
    "\n",
    "    Answer - \n",
    "    step - 1 - home\n",
    "    step - 2 - get data\n",
    "    step - 3 - choose folder \n",
    "    step - 4 - copy the path \n",
    "    step - 5 - Click to combine and transcript \n",
    "    step - 6 - click to 'ok'\n",
    "\n",
    "Q6. In Power BI visualization, what are Reading View and Editing view?\n",
    "\n",
    "    Answer -  Editing view and Reading view. If you are a business user, then you are more likely to use Reading view to consume reports created by others. Editing view is used by report designers, who create the reports and share them with you."
   ]
  },
  {
   "cell_type": "code",
   "execution_count": null,
   "id": "ed3f53c3",
   "metadata": {},
   "outputs": [],
   "source": []
  }
 ],
 "metadata": {
  "kernelspec": {
   "display_name": "Python 3",
   "language": "python",
   "name": "python3"
  },
  "language_info": {
   "codemirror_mode": {
    "name": "ipython",
    "version": 3
   },
   "file_extension": ".py",
   "mimetype": "text/x-python",
   "name": "python",
   "nbconvert_exporter": "python",
   "pygments_lexer": "ipython3",
   "version": "3.8.8"
  }
 },
 "nbformat": 4,
 "nbformat_minor": 5
}
