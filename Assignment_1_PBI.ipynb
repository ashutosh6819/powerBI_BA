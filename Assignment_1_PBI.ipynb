{
 "cells": [
  {
   "cell_type": "markdown",
   "id": "19295ac7",
   "metadata": {},
   "source": [
    "Q1. What do you mean by BI? Explain.\n",
    "\n",
    "    Answer - Business intelligence (BI) combines business analytics, data mining, data visualization, data tools and infrastructure, and best practices to help organizations to make more data-driven decisions.\n",
    "\n",
    "Q2. How Power-BI helps in BI, and how does it help Analysts? Explain.\n",
    "\n",
    "    Answer - Business intelligence (BI) combines business analytics, data mining, data visualization, data tools and infrastructure, and best practices to help organizations to make more data-driven decisions so as the power BI is a visualisation tool and so it helps to visualize the data in the manner that we can easly use it to make effective decision.\n",
    "\n",
    "Q3. Explain Descriptive analytics?\n",
    "\n",
    "    Answer - Descriptive analytics is the interpretation of historical data to better understand changes that have occurred in a business. Descriptive analytics describes the use of a range of historic data to draw comparisons.\n",
    "\n",
    "Q4. Explain Predictive analytics?\n",
    "\n",
    "    Answer - Predictive analytics is the use of data, statistical algorithms and machine learning techniques to identify the likelihood of future outcomes based on historical data. The goal is to go beyond knowing what has happened to providing a best assessment of what will happen in the future.\n",
    "\n",
    "Q5. Explain perspective analytics?\n",
    "\n",
    "    Answer - Prescriptive analytics is a type of data analytics in which we use of technology to help businesses make better decisions through the analysis of raw data. It can be used to make decisions on any time horizon, from immediate to long term.\n",
    "\n",
    "Q6. Write five real-life questions that PowerBi can solve.\n",
    "\n",
    "    Answer - 1. Split the author column in two and replace the resulting nulls with blanks.\n",
    "\n",
    "    2. Can change the date format.\n",
    "    \n",
    "    3. Can fiter out the specific columns if needed. \n",
    "    \n",
    "    4. can create new columns as with new conditions.\n",
    "    \n",
    "    5. shaw data in effective graphs.\n"
   ]
  },
  {
   "cell_type": "code",
   "execution_count": null,
   "id": "a2608e77",
   "metadata": {},
   "outputs": [],
   "source": []
  }
 ],
 "metadata": {
  "kernelspec": {
   "display_name": "Python 3",
   "language": "python",
   "name": "python3"
  },
  "language_info": {
   "codemirror_mode": {
    "name": "ipython",
    "version": 3
   },
   "file_extension": ".py",
   "mimetype": "text/x-python",
   "name": "python",
   "nbconvert_exporter": "python",
   "pygments_lexer": "ipython3",
   "version": "3.8.8"
  }
 },
 "nbformat": 4,
 "nbformat_minor": 5
}
